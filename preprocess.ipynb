{
 "cells": [
  {
   "cell_type": "code",
   "execution_count": 1,
   "id": "960ee6b9-9f26-4101-b50e-ef966816a150",
   "metadata": {},
   "outputs": [],
   "source": [
    "import geopandas"
   ]
  },
  {
   "cell_type": "code",
   "execution_count": 39,
   "id": "7ff7230e-d4ad-479f-a5b1-009366cf4aba",
   "metadata": {},
   "outputs": [],
   "source": [
    "west = -118.284053\n",
    "south = 34.089\n",
    "east = -118.271514\n",
    "north = 34.125\n",
    "\n",
    "cx = (slice(west, east), slice(south, north))\n"
   ]
  },
  {
   "cell_type": "code",
   "execution_count": 40,
   "id": "4ec6b260-3cce-4609-9c17-60591277d21e",
   "metadata": {},
   "outputs": [],
   "source": [
    "arterials = geopandas.read_file(\"data/Streets_(Arterial).geojson\").cx[cx]"
   ]
  },
  {
   "cell_type": "code",
   "execution_count": 41,
   "id": "a511128b-6181-4296-acc2-4b4b8feda25c",
   "metadata": {},
   "outputs": [],
   "source": [
    "centerline = (\n",
    "    arterials[\n",
    "        arterials.STNAME.str.contains(\"HYPERION\") |\n",
    "        arterials.STNAME.str.contains(\"FOUNTAIN\")\n",
    "    ]\n",
    "    .dissolve()\n",
    ")\n",
    "centerline[[\"geometry\"]].to_file(\"data/centerline.geojson\")"
   ]
  },
  {
   "cell_type": "code",
   "execution_count": 33,
   "id": "ef431a47-4bad-4d38-8803-5ae9534c90c4",
   "metadata": {},
   "outputs": [],
   "source": [
    "west = -118.293\n",
    "south = 34.089\n",
    "east = -118.258\n",
    "north = 34.125\n",
    "\n",
    "cx = (slice(west, east), slice(south, north))\n"
   ]
  },
  {
   "cell_type": "code",
   "execution_count": 34,
   "id": "8ac7d09e-b2c5-47b3-825c-2b0b88ed2671",
   "metadata": {},
   "outputs": [],
   "source": [
    "zoning = geopandas.read_file(\"data/Zoning.geojson\").cx[cx]"
   ]
  },
  {
   "cell_type": "code",
   "execution_count": 35,
   "id": "b8e949ed-3b1f-4e8b-942a-993dc3d178cf",
   "metadata": {},
   "outputs": [],
   "source": [
    "zoning.to_file(\"data/zoning_study_area.geojson\")"
   ]
  },
  {
   "cell_type": "code",
   "execution_count": 49,
   "id": "c0a67f1b-4943-4c81-8d71-5352d4440907",
   "metadata": {},
   "outputs": [],
   "source": [
    "hin = geopandas.read_file(\"data/high_injury_network.geojson\")\n",
    "hin_subset = hin.clip(\n",
    "    centerline\n",
    "    .to_crs(epsg=2229)\n",
    "    .assign(buffered = lambda x: x.buffer(100.))\n",
    "    .set_geometry(\"buffered\")\n",
    "    .to_crs(epsg=4326)\n",
    ")\n",
    "hin_subset = hin_subset[hin_subset.street.str.contains(\"FOUNTAIN\")]\n",
    "hin_subset.to_file(\"data/hin_subset.geojson\")"
   ]
  },
  {
   "cell_type": "code",
   "execution_count": null,
   "id": "b6054d06-e0a8-4d6d-a409-dbfbb80cfb1a",
   "metadata": {},
   "outputs": [],
   "source": []
  }
 ],
 "metadata": {
  "kernelspec": {
   "display_name": "Python 3 (ipykernel)",
   "language": "python",
   "name": "python3"
  },
  "language_info": {
   "codemirror_mode": {
    "name": "ipython",
    "version": 3
   },
   "file_extension": ".py",
   "mimetype": "text/x-python",
   "name": "python",
   "nbconvert_exporter": "python",
   "pygments_lexer": "ipython3",
   "version": "3.8.5"
  }
 },
 "nbformat": 4,
 "nbformat_minor": 5
}
